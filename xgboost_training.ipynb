{
  "cells": [
    {
      "cell_type": "markdown",
      "metadata": {},
      "source": [
        "# Task 4: Binary Classification - XGBoost Model\n",
        "\n",
        "This notebook loads the preprocessed data saved by `1_consolidate_data.ipynb` and trains/evaluates an XGBoost classifier.\n",
        "\n",
        "\n",
        "\n",
        "XGBoost (Extreme Gradient Boosting) is a powerful and often high-performing algorithm for classification tasks."
      ]
    },
    {
      "cell_type": "code",
      "execution_count": null,
      "metadata": {},
      "outputs": [],
      "source": [
        "import xgboost as xgb\n",
        "import utils"
      ]
    },
    {
      "cell_type": "code",
      "execution_count": null,
      "metadata": {},
      "outputs": [],
      "source": [
        "# Load the preprocessed data using the utility function\n",
        "try:\n",
        "    df = utils.load_preprocessed_data() # Default path 'data/preprocessed_data.parquet'\n",
        "except Exception as e:\n",
        "    print(f\"Stopping notebook execution due to error in loading data: {e}\")\n",
        "    raise\n"
      ]
    },
    {
      "cell_type": "code",
      "execution_count": null,
      "metadata": {},
      "outputs": [],
      "source": [
        "# Separate train/test and features/target using utility function\n",
        "X_train_scaled, y_train, X_test_scaled, y_test = utils.split_data_features_target(df)\n",
        "\n",
        "# Convert target variables using utility function\n",
        "y_train = utils.convert_target_variable(y_train)\n",
        "y_test = utils.convert_target_variable(y_test)\n"
      ]
    },
    {
      "cell_type": "code",
      "execution_count": null,
      "metadata": {},
      "outputs": [],
      "source": [
        "# Calculate class distribution in the training set for scale_pos_weight\n",
        "scale_pos_weight_val = 1 # Default\n",
        "if y_train.dtype == 'int64' or y_train.dtype == 'int32': # Make sure y_train is the converted version\n",
        "    count_class_0 = (y_train == 0).sum()\n",
        "    count_class_1 = (y_train == 1).sum()\n",
        "    print(f\"\\nTraining data class distribution: Class 0 (n): {count_class_0}, Class 1 (y): {count_class_1}\")\n",
        "    if count_class_1 > 0:\n",
        "        scale_pos_weight_val = count_class_0 / count_class_1\n",
        "        print(f\"Calculated scale_pos_weight: {scale_pos_weight_val:.4f}\")\n",
        "    else:\n",
        "        print(\"Warning: No positive class (1) instances in y_train. scale_pos_weight set to 1.\")\n",
        "else:\n",
        "    print(f\"Warning: y_train is not numeric (dtype: {y_train.dtype}) after conversion attempt. scale_pos_weight set to 1.\")\n"
      ]
    },
    {
      "cell_type": "code",
      "execution_count": null,
      "metadata": {},
      "outputs": [],
      "source": [
        "xgb_clf = xgb.XGBClassifier(\n",
        "    objective='binary:logistic',\n",
        "    eval_metric='logloss',\n",
        "    use_label_encoder=False, # Recommended to avoid warnings\n",
        "    random_state=42,\n",
        "    n_estimators=100, # Default, can be tuned\n",
        "    scale_pos_weight=scale_pos_weight_val # Add calculated scale_pos_weight\n",
        ")\n",
        "\n",
        "# Train the model\n",
        "print(\"\\nTraining XGBoost model...\")\n",
        "xgb_clf.fit(X_train_scaled, y_train)\n",
        "print(\"Model training complete.\")"
      ]
    },
    {
      "cell_type": "code",
      "execution_count": null,
      "metadata": {},
      "outputs": [],
      "source": [
        "# Make Predictions\n",
        "y_pred_xgb = xgb_clf.predict(X_test_scaled)\n",
        "# Make Predictions on the test set\n",
        "# y_pred_proba_xgb = xgb_clf.predict_proba(X_test_scaled)[:, 1] # Probabilities (optional)"
      ]
    },
    {
      "cell_type": "code",
      "execution_count": null,
      "id": "c05c74c4",
      "metadata": {},
      "outputs": [],
      "source": [
        "# Evaluate the XGBoost model using the utility function\n",
        "utils.evaluate_model_performance(y_test, y_pred_xgb, X_test_scaled, xgb_clf, \"XGBoost\")"
      ]
    }
  ],
  "metadata": {
    "kernelspec": {
      "display_name": "Python 3",
      "language": "python",
      "name": "python3"
    },
    "language_info": {
      "codemirror_mode": {
        "name": "ipython",
        "version": 3
      },
      "file_extension": ".py",
      "mimetype": "text/x-python",
      "name": "python",
      "nbconvert_exporter": "python",
      "pygments_lexer": "ipython3",
      "version": "3.13.2"
    }
  },
  "nbformat": 4,
  "nbformat_minor": 5
}
