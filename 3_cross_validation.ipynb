{
 "cells": [
  {
   "cell_type": "markdown",
   "id": "cv-intro",
   "metadata": {},
   "source": [
    "# Task 4: Binary Classification - Cross-Validation\n",
    "\n",
    "This notebook loads the preprocessed data saved by `1_consolidate_data.ipynb` and trains/evaluates a Logistic Regression model using K-Fold Cross-Validation.\n",
    "\n",
    "Cross-validation provides a more robust estimate of the model's performance on unseen data compared to a single train-test split."
   ]
  },
  {
   "cell_type": "code",
   "execution_count": null,
   "id": "cv-load-data",
   "metadata": {},
   "outputs": [],
   "source": [
    "import pandas as pd\n",
    "from sklearn.linear_model import LogisticRegression\n",
    "from sklearn.model_selection import cross_val_score, StratifiedKFold\n",
    "from sklearn.metrics import make_scorer, accuracy_score, precision_score, recall_score, f1_score\n",
    "import numpy as np\n",
    "\n",
    "# Define input path\n",
    "input_parquet_path = 'data/preprocessed_data.parquet'\n",
    "\n",
    "# Load the preprocessed data\n",
    "print(f\"Loading preprocessed data from {input_parquet_path}...\")\n",
    "try:\n",
    "    df = pd.read_parquet(input_parquet_path)\n",
    "    print(\"Data loaded successfully.\")\n",
    "    print(\"\\nLoaded DataFrame Info:\")\n",
    "    df.info()\n",
    "except FileNotFoundError:\n",
    "    print(f\"Error: File not found at {input_parquet_path}. Please run notebook 1 first.\")\n",
    "    # raise\n",
    "except ImportError:\n",
    "    print(\"\\nError: 'pyarrow' or 'fastparquet' package is required to read Parquet format.\")\n",
    "    print(\"Please install it using: pip install pyarrow\")\n",
    "    # raise\n",
    "except Exception as e:\n",
    "    print(f\"\\nAn error occurred while loading the Parquet file: {e}\")\n",
    "    # raise"
   ]
  },
  {
   "cell_type": "code",
   "execution_count": null,
   "id": "cv-prepare-data",
   "metadata": {},
   "outputs": [],
   "source": [
    "# Separate features (X) and target (y) from the entire dataset\n",
    "# Cross-validation will handle the splitting internally\n",
    "X = df.drop(['Class', 'split'], axis=1)\n",
    "y = df['Class']\n",
    "\n",
    "# Convert target variable 'Class' from object ('n'/'y') to numeric (0/1) if necessary\n",
    "if y.dtype == 'object':\n",
    "    print(\"\\nConverting target variable 'Class' to numeric (n=0, y=1)...\")\n",
    "    y = y.map({'n': 0, 'y': 1})\n",
    "    print(\"Target variable converted.\")\n",
    "    print(\"Target value counts:\\n\", y.value_counts())\n",
    "\n",
    "print(f\"\\nFeatures shape: {X.shape}\")\n",
    "print(f\"Target shape: {y.shape}\")"
   ]
  },
  {
   "cell_type": "markdown",
   "id": "cv-markdown",
   "metadata": {},
   "source": [
    "# Perform Cross-Validation\n",
    "\n",
    "We will use Stratified K-Fold cross-validation to ensure that each fold maintains the same proportion of classes as the original dataset, which is important for potentially imbalanced datasets."
   ]
  },
  {
   "cell_type": "code",
   "execution_count": null,
   "id": "cv-run",
   "metadata": {},
   "outputs": [],
   "source": [
    "# Instantiate the model\n",
    "log_reg_cv = LogisticRegression(random_state=42, max_iter=1000)\n",
    "\n",
    "# Define the cross-validation strategy\n",
    "# Using StratifiedKFold for classification tasks, especially if the target is imbalanced\n",
    "cv_strategy = StratifiedKFold(n_splits=5, shuffle=True, random_state=42)\n",
    "\n",
    "# Define scoring metrics\n",
    "scoring = {\n",
    "    'accuracy': make_scorer(accuracy_score),\n",
    "    'precision': make_scorer(precision_score, zero_division=0),\n",
    "    'recall': make_scorer(recall_score),\n",
    "    'f1': make_scorer(f1_score)\n",
    "}\n",
    "\n",
    "# Perform cross-validation for multiple scores\n",
    "print(\"Performing 5-fold cross-validation...\")\n",
    "cv_scores = {}\n",
    "for metric_name, scorer in scoring.items():\n",
    "    scores = cross_val_score(log_reg_cv, X, y, cv=cv_strategy, scoring=scorer)\n",
    "    cv_scores[metric_name] = scores\n",
    "    print(f\"Scores for {metric_name}: {scores}\")\n",
    "    print(f\"Mean {metric_name}: {np.mean(scores):.4f} (+/- {np.std(scores):.4f})\")\n",
    "    print(\"---\")\n",
    "\n",
    "print(\"Cross-validation complete.\")"
   ]
  },
  {
   "cell_type": "markdown",
   "id": "cv-interpretation",
   "metadata": {},
   "source": [
    "# Interpretation\n",
    "\n",
    "The results above show the performance for each of the 5 folds and the mean (+/- standard deviation) across the folds for accuracy, precision, recall, and F1-score.\n",
    "\n",
    "- **Mean Score:** Gives an average estimate of the model's performance.\n",
    "- **Standard Deviation:** Indicates the variability of the performance across different folds. A lower standard deviation suggests more consistent performance."
   ]
  }
 ],
 "metadata": {
  "kernelspec": {
   "display_name": "Python 3",
   "language": "python",
   "name": "python3"
  },
  "language_info": {
   "codemirror_mode": {
    "name": "ipython",
    "version": 3
   },
   "file_extension": ".py",
   "mimetype": "text/x-python",
   "name": "python",
   "nbconvert_exporter": "python",
   "pygments_lexer": "ipython3",
   "version": "3.13.2"
  }
 },
 "nbformat": 4,
 "nbformat_minor": 5
}
