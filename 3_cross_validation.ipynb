{
 "cells": [
  {
   "cell_type": "markdown",
   "id": "cv-intro",
   "metadata": {},
   "source": [
    "# Task 4: Binary Classification - Cross-Validation\n",
    "\n",
    "This notebook loads the preprocessed data saved by `1_consolidate_data.ipynb` and trains/evaluates a Logistic Regression model using K-Fold Cross-Validation.\n",
    "\n",
    "Cross-validation provides a more robust estimate of the model's performance on unseen data compared to a single train-test split."
   ]
  },
  {
   "cell_type": "code",
   "execution_count": null,
   "id": "cv-load-data",
   "metadata": {},
   "outputs": [],
   "source": [
    "import pandas as pd\n",
    "from sklearn.linear_model import LogisticRegression\n",
    "from sklearn.model_selection import cross_val_score, StratifiedKFold\n",
    "from sklearn.metrics import make_scorer, accuracy_score, precision_score, recall_score, f1_score\n",
    "import numpy as np\n",
    "import utils\n",
    "\n",
    "df = utils.load_preprocessed_data() # Default path 'data/preprocessed_data.parquet'"
   ]
  },
  {
   "cell_type": "code",
   "execution_count": null,
   "id": "301c0287",
   "metadata": {},
   "outputs": [],
   "source": [
    "# Convert target variable using utility function\n",
    "y = utils.convert_target_variable(y_original)\n",
    "\n",
    "# Separate train/test and features/target using utility function\n",
    "X_train_scaled, y_train, X_test_scaled, y_test = utils.split_data_features_target(df)\n",
    "y_train = utils.convert_target_variable(y_train)\n",
    "y_test = utils.convert_target_variable(y_test)"
   ]
  },
  {
   "cell_type": "code",
   "execution_count": null,
   "id": "cv-prepare-data",
   "metadata": {},
   "outputs": [],
   "source": [
    "# Separate features (X) and target (y) from the entire dataset\n",
    "# Cross-validation will handle the splitting internally.\n",
    "# Note: We are not using the 'split' column here as CV works on the whole dataset \n",
    "# (typically the training portion if it were pre-split, but here we use the full df from parquet).\n",
    "X = df.drop(['Class', 'split'], axis=1) # Assumes 'split' column exists and is not needed for features.\n",
    "y_original = df['Class'] # Get the original target column\n",
    "\n",
    "# Convert target variable using utility function\n",
    "y = utils.convert_target_variable(y_original)\n",
    "\n",
    "print(f\"\\nFeatures shape for CV: {X.shape}\")\n",
    "print(f\"Target shape for CV: {y.shape}\")\n"
   ]
  },
  {
   "cell_type": "markdown",
   "id": "cv-markdown",
   "metadata": {},
   "source": [
    "# Perform Cross-Validation\n",
    "\n",
    "We will use Stratified K-Fold cross-validation to ensure that each fold maintains the same proportion of classes as the original dataset, which is important for potentially imbalanced datasets."
   ]
  },
  {
   "cell_type": "code",
   "execution_count": null,
   "id": "cv-run",
   "metadata": {},
   "outputs": [],
   "source": [
    "# Instantiate the model\n",
    "log_reg_cv = LogisticRegression(random_state=42, max_iter=1000)\n",
    "\n",
    "# Define the cross-validation strategy\n",
    "# Using StratifiedKFold for classification tasks, especially if the target is imbalanced\n",
    "cv_strategy = StratifiedKFold(n_splits=5, shuffle=True, random_state=42)\n",
    "\n",
    "# Define scoring metrics\n",
    "scoring = {\n",
    "    'accuracy': make_scorer(accuracy_score),\n",
    "    'precision': make_scorer(precision_score, zero_division=0),\n",
    "    'recall': make_scorer(recall_score),\n",
    "    'f1': make_scorer(f1_score)\n",
    "}\n",
    "\n",
    "# Perform cross-validation for multiple scores\n",
    "print(\"Performing 5-fold cross-validation...\")\n",
    "cv_scores = {}\n",
    "for metric_name, scorer in scoring.items():\n",
    "    scores = cross_val_score(log_reg_cv, X, y, cv=cv_strategy, scoring=scorer)\n",
    "    cv_scores[metric_name] = scores\n",
    "    print(f\"Scores for {metric_name}: {scores}\")\n",
    "    print(f\"Mean {metric_name}: {np.mean(scores):.4f} (+/- {np.std(scores):.4f})\")\n",
    "    print(\"---\")\n",
    "\n",
    "print(\"Cross-validation complete.\")"
   ]
  },
  {
   "cell_type": "markdown",
   "id": "cv-interpretation",
   "metadata": {},
   "source": [
    "# Interpretation\n",
    "\n",
    "The results above show the performance for each of the 5 folds and the mean (+/- standard deviation) across the folds for accuracy, precision, recall, and F1-score.\n",
    "\n",
    "- **Mean Score:** Gives an average estimate of the model's performance.\n",
    "- **Standard Deviation:** Indicates the variability of the performance across different folds. A lower standard deviation suggests more consistent performance."
   ]
  }
 ],
 "metadata": {
  "kernelspec": {
   "display_name": "Python 3",
   "language": "python",
   "name": "python3"
  },
  "language_info": {
   "codemirror_mode": {
    "name": "ipython",
    "version": 3
   },
   "file_extension": ".py",
   "mimetype": "text/x-python",
   "name": "python",
   "nbconvert_exporter": "python",
   "pygments_lexer": "ipython3",
   "version": "3.13.2"
  }
 },
 "nbformat": 4,
 "nbformat_minor": 5
}
