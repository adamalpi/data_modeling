{
 "cells": [
  {
   "cell_type": "markdown",
   "id": "baseline-intro",
   "metadata": {},
   "source": [
    "# Task 4: Binary Classification - Baseline Model (Logistic Regression)\n",
    "\n",
    "This notebook loads the preprocessed data saved by `1_consolidate_data.ipynb` and trains/evaluates a baseline Logistic Regression model."
   ]
  },
  {
   "cell_type": "code",
   "execution_count": null,
   "id": "load-data",
   "metadata": {},
   "outputs": [],
   "source": [
    "import pandas as pd\n",
    "from sklearn.linear_model import LogisticRegression\n",
    "from sklearn.metrics import classification_report, confusion_matrix, accuracy_score\n",
    "import matplotlib.pyplot as plt\n",
    "import seaborn as sns\n",
    "import numpy as np # For potential NaN handling if needed, though imputation should handle it\n",
    "\n",
    "# Define input path\n",
    "input_parquet_path = 'data/preprocessed_data.parquet'\n",
    "\n",
    "# Load the preprocessed data\n",
    "print(f\"Loading preprocessed data from {input_parquet_path}...\")\n",
    "try:\n",
    "    df = pd.read_parquet(input_parquet_path)\n",
    "    print(\"Data loaded successfully.\")\n",
    "    print(\"\\nLoaded DataFrame Info:\")\n",
    "    df.info()\n",
    "    print(\"\\nLoaded DataFrame Head:\")\n",
    "    print(df.head())\n",
    "except FileNotFoundError:\n",
    "    print(f\"Error: File not found at {input_parquet_path}. Please run notebook 1 first.\")\n",
    "    # Optionally raise an error or exit\n",
    "    # raise\n",
    "except ImportError:\n",
    "    print(\"\\nError: 'pyarrow' or 'fastparquet' package is required to read Parquet format.\")\n",
    "    print(\"Please install it using: pip install pyarrow\")\n",
    "    # raise\n",
    "except Exception as e:\n",
    "    print(f\"\\nAn error occurred while loading the Parquet file: {e}\")\n",
    "    # raise"
   ]
  },
  {
   "cell_type": "code",
   "execution_count": null,
   "id": "split-data",
   "metadata": {},
   "outputs": [],
   "source": [
    "# Separate train and test sets based on the 'split' column\n",
    "train_df = df[df['split'] == 'train']\n",
    "test_df = df[df['split'] == 'test']\n",
    "\n",
    "# Separate features (X) and target (y)\n",
    "# Drop the 'split' column and the target 'Class' column from features\n",
    "X_train_scaled = train_df.drop(['Class', 'split'], axis=1)\n",
    "y_train = train_df['Class']\n",
    "\n",
    "X_test_scaled = test_df.drop(['Class', 'split'], axis=1)\n",
    "y_test = test_df['Class']\n",
    "\n",
    "# Convert target variable 'Class' from object ('n'/'y') to numeric (0/1) if necessary\n",
    "# Check if conversion is needed\n",
    "if y_train.dtype == 'object':\n",
    "    print(\"\\nConverting target variable 'Class' to numeric (n=0, y=1)...\")\n",
    "    y_train = y_train.map({'n': 0, 'y': 1})\n",
    "    y_test = y_test.map({'n': 0, 'y': 1})\n",
    "    print(\"Target variable converted.\")\n",
    "    print(\"y_train value counts:\\n\", y_train.value_counts())\n",
    "    print(\"y_test value counts:\\n\", y_test.value_counts())\n",
    "\n",
    "print(f\"\\nTraining features shape: {X_train_scaled.shape}\")\n",
    "print(f\"Training target shape: {y_train.shape}\")\n",
    "print(f\"Test features shape: {X_test_scaled.shape}\")\n",
    "print(f\"Test target shape: {y_test.shape}\")"
   ]
  },
  {
   "cell_type": "markdown",
   "id": "eval-func-markdown",
   "metadata": {},
   "source": [
    "# Evaluation Function\n",
    "\n",
    "Define a reusable function to display evaluation metrics and plot the confusion matrix."
   ]
  },
  {
   "cell_type": "code",
   "execution_count": null,
   "id": "define-eval-func",
   "metadata": {},
   "outputs": [],
   "source": [
    "def evaluate_model(y_true, y_pred, model, model_name):\n",
    "    \"\"\"Calculates, prints, and plots evaluation metrics for a binary classifier.\"\"\"\n",
    "    \n",
    "    print(f\"\\n--- {model_name} Evaluation ---\")\n",
    "    \n",
    "    # Accuracy\n",
    "    accuracy = accuracy_score(y_true, y_pred)\n",
    "    print(f\"Accuracy: {accuracy:.4f}\")\n",
    "    \n",
    "    # Classification Report\n",
    "    print(\"\\nClassification Report:\")\n",
    "    # Use target_names=['n', 'y'] if y_true contains 0 and 1 corresponding to 'n' and 'y'\n",
    "    # Adjust if your mapping is different or if y_true is already 'n'/'y'\n",
    "    target_names = ['Class n (0)', 'Class y (1)'] if np.all(np.isin(y_true.unique(), [0, 1])) else None\n",
    "    print(classification_report(y_true, y_pred, target_names=target_names, zero_division=0))\n",
    "    \n",
    "    # Confusion Matrix\n",
    "    print(\"\\nConfusion Matrix:\")\n",
    "    cm = confusion_matrix(y_true, y_pred)\n",
    "    print(cm)\n",
    "    \n",
    "    # Plot Confusion Matrix\n",
    "    plt.figure(figsize=(6, 4))\n",
    "    sns.heatmap(cm, annot=True, fmt='d', cmap='Blues', \n",
    "                xticklabels=model.classes_ if hasattr(model, 'classes_') else ['0', '1'], \n",
    "                yticklabels=model.classes_ if hasattr(model, 'classes_') else ['0', '1'])\n",
    "    plt.xlabel('Predicted Label')\n",
    "    plt.ylabel('True Label')\n",
    "    plt.title(f'Confusion Matrix - {model_name}')\n",
    "    plt.show()"
   ]
  },
  {
   "cell_type": "markdown",
   "id": "train-eval-markdown",
   "metadata": {},
   "source": [
    "# Train and Evaluate Logistic Regression Model\n",
    "\n",
    "Using the scaled and imputed data loaded from the parquet file."
   ]
  },
  {
   "cell_type": "code",
   "execution_count": null,
   "id": "train-eval-code",
   "metadata": {},
   "outputs": [],
   "source": [
    "# 1. Instantiate Model\n",
    "log_reg = LogisticRegression(random_state=42, max_iter=1000) # Increased max_iter for potential convergence issues\n",
    "\n",
    "# 2. Train Model\n",
    "print(\"\\nTraining Logistic Regression model...\")\n",
    "log_reg.fit(X_train_scaled, y_train)\n",
    "print(\"Model training complete.\")\n",
    "\n",
    "# 3. Make Predictions\n",
    "y_pred_lr = log_reg.predict(X_test_scaled)\n",
    "# y_pred_proba_lr = log_reg.predict_proba(X_test_scaled)[:, 1] # Probabilities (optional for this function)\n",
    "\n",
    "# 4. Evaluate Model using the function\n",
    "evaluate_model(y_test, y_pred_lr, log_reg, \"Logistic Regression\")"
   ]
  }
 ],
 "metadata": {
  "kernelspec": {
   "display_name": "Python 3",
   "language": "python",
   "name": "python3"
  },
  "language_info": {
   "codemirror_mode": {
    "name": "ipython",
    "version": 3
   },
   "file_extension": ".py",
   "mimetype": "text/x-python",
   "name": "python",
   "nbconvert_exporter": "python",
   "pygments_lexer": "ipython3",
   "version": "3.13.2"
  }
 },
 "nbformat": 4,
 "nbformat_minor": 5
}
